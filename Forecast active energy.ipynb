{
 "cells": [
  {
   "cell_type": "markdown",
   "id": "fe515790",
   "metadata": {},
   "source": [
    "Source: http://archive.ics.uci.edu/ml/datasets/Individual+household+electric+power+consumption"
   ]
  },
  {
   "cell_type": "markdown",
   "id": "8359dc1c",
   "metadata": {},
   "source": [
    "**Forcasting energy consumption by household** "
   ]
  },
  {
   "cell_type": "markdown",
   "id": "89f72f2f",
   "metadata": {},
   "source": [
    "***Load the dataset and calculate the active energy***"
   ]
  },
  {
   "cell_type": "code",
   "execution_count": 2,
   "id": "e668daa2",
   "metadata": {},
   "outputs": [
    {
     "name": "stderr",
     "output_type": "stream",
     "text": [
      "Warning message:\n",
      "\"package 'dplyr' was built under R version 3.6.3\"\n",
      "Attaching package: 'dplyr'\n",
      "\n",
      "The following objects are masked from 'package:stats':\n",
      "\n",
      "    filter, lag\n",
      "\n",
      "The following objects are masked from 'package:base':\n",
      "\n",
      "    intersect, setdiff, setequal, union\n",
      "\n"
     ]
    }
   ],
   "source": [
    "library(dplyr)\n",
    "\n",
    "data <-read.csv(\"household_power_consumption.csv\", stringsAsFactors = FALSE) \n"
   ]
  },
  {
   "cell_type": "code",
   "execution_count": 3,
   "id": "a47edf82",
   "metadata": {},
   "outputs": [
    {
     "data": {
      "text/html": [
       "<table>\n",
       "<thead><tr><th scope=col>Date</th><th scope=col>Time</th><th scope=col>Global_active_power</th><th scope=col>Global_reactive_power</th><th scope=col>Voltage</th><th scope=col>Global_intensity</th><th scope=col>Sub_metering_1</th><th scope=col>Sub_metering_2</th><th scope=col>Sub_metering_3</th></tr></thead>\n",
       "<tbody>\n",
       "\t<tr><td>16/12/2006</td><td>17:24:00  </td><td>4.216     </td><td>0.418     </td><td>234.84    </td><td>18.4      </td><td>0         </td><td>1         </td><td>17        </td></tr>\n",
       "\t<tr><td>16/12/2006</td><td>17:25:00  </td><td>5.36      </td><td>0.436     </td><td>233.63    </td><td>23        </td><td>0         </td><td>1         </td><td>16        </td></tr>\n",
       "\t<tr><td>16/12/2006</td><td>17:26:00  </td><td>5.374     </td><td>0.498     </td><td>233.29    </td><td>23        </td><td>0         </td><td>2         </td><td>17        </td></tr>\n",
       "\t<tr><td>16/12/2006</td><td>17:27:00  </td><td>5.388     </td><td>0.502     </td><td>233.74    </td><td>23        </td><td>0         </td><td>1         </td><td>17        </td></tr>\n",
       "\t<tr><td>16/12/2006</td><td>17:28:00  </td><td>3.666     </td><td>0.528     </td><td>235.68    </td><td>15.8      </td><td>0         </td><td>1         </td><td>17        </td></tr>\n",
       "\t<tr><td>16/12/2006</td><td>17:29:00  </td><td>3.52      </td><td>0.522     </td><td>235.02    </td><td>15        </td><td>0         </td><td>2         </td><td>17        </td></tr>\n",
       "</tbody>\n",
       "</table>\n"
      ],
      "text/latex": [
       "\\begin{tabular}{r|lllllllll}\n",
       " Date & Time & Global\\_active\\_power & Global\\_reactive\\_power & Voltage & Global\\_intensity & Sub\\_metering\\_1 & Sub\\_metering\\_2 & Sub\\_metering\\_3\\\\\n",
       "\\hline\n",
       "\t 16/12/2006 & 17:24:00   & 4.216      & 0.418      & 234.84     & 18.4       & 0          & 1          & 17        \\\\\n",
       "\t 16/12/2006 & 17:25:00   & 5.36       & 0.436      & 233.63     & 23         & 0          & 1          & 16        \\\\\n",
       "\t 16/12/2006 & 17:26:00   & 5.374      & 0.498      & 233.29     & 23         & 0          & 2          & 17        \\\\\n",
       "\t 16/12/2006 & 17:27:00   & 5.388      & 0.502      & 233.74     & 23         & 0          & 1          & 17        \\\\\n",
       "\t 16/12/2006 & 17:28:00   & 3.666      & 0.528      & 235.68     & 15.8       & 0          & 1          & 17        \\\\\n",
       "\t 16/12/2006 & 17:29:00   & 3.52       & 0.522      & 235.02     & 15         & 0          & 2          & 17        \\\\\n",
       "\\end{tabular}\n"
      ],
      "text/markdown": [
       "\n",
       "| Date | Time | Global_active_power | Global_reactive_power | Voltage | Global_intensity | Sub_metering_1 | Sub_metering_2 | Sub_metering_3 |\n",
       "|---|---|---|---|---|---|---|---|---|\n",
       "| 16/12/2006 | 17:24:00   | 4.216      | 0.418      | 234.84     | 18.4       | 0          | 1          | 17         |\n",
       "| 16/12/2006 | 17:25:00   | 5.36       | 0.436      | 233.63     | 23         | 0          | 1          | 16         |\n",
       "| 16/12/2006 | 17:26:00   | 5.374      | 0.498      | 233.29     | 23         | 0          | 2          | 17         |\n",
       "| 16/12/2006 | 17:27:00   | 5.388      | 0.502      | 233.74     | 23         | 0          | 1          | 17         |\n",
       "| 16/12/2006 | 17:28:00   | 3.666      | 0.528      | 235.68     | 15.8       | 0          | 1          | 17         |\n",
       "| 16/12/2006 | 17:29:00   | 3.52       | 0.522      | 235.02     | 15         | 0          | 2          | 17         |\n",
       "\n"
      ],
      "text/plain": [
       "  Date       Time     Global_active_power Global_reactive_power Voltage\n",
       "1 16/12/2006 17:24:00 4.216               0.418                 234.84 \n",
       "2 16/12/2006 17:25:00 5.36                0.436                 233.63 \n",
       "3 16/12/2006 17:26:00 5.374               0.498                 233.29 \n",
       "4 16/12/2006 17:27:00 5.388               0.502                 233.74 \n",
       "5 16/12/2006 17:28:00 3.666               0.528                 235.68 \n",
       "6 16/12/2006 17:29:00 3.52                0.522                 235.02 \n",
       "  Global_intensity Sub_metering_1 Sub_metering_2 Sub_metering_3\n",
       "1 18.4             0              1              17            \n",
       "2 23               0              1              16            \n",
       "3 23               0              2              17            \n",
       "4 23               0              1              17            \n",
       "5 15.8             0              1              17            \n",
       "6 15               0              2              17            "
      ]
     },
     "metadata": {},
     "output_type": "display_data"
    }
   ],
   "source": [
    "head(data)"
   ]
  },
  {
   "cell_type": "code",
   "execution_count": 4,
   "id": "0b9cd702",
   "metadata": {},
   "outputs": [
    {
     "data": {
      "text/html": [
       "<ol class=list-inline>\n",
       "\t<li>1048575</li>\n",
       "\t<li>9</li>\n",
       "</ol>\n"
      ],
      "text/latex": [
       "\\begin{enumerate*}\n",
       "\\item 1048575\n",
       "\\item 9\n",
       "\\end{enumerate*}\n"
      ],
      "text/markdown": [
       "1. 1048575\n",
       "2. 9\n",
       "\n",
       "\n"
      ],
      "text/plain": [
       "[1] 1048575       9"
      ]
     },
     "metadata": {},
     "output_type": "display_data"
    }
   ],
   "source": [
    "dim(data)"
   ]
  },
  {
   "cell_type": "code",
   "execution_count": 5,
   "id": "6e9c9962",
   "metadata": {},
   "outputs": [
    {
     "name": "stderr",
     "output_type": "stream",
     "text": [
      "Warning message in eval(expr, envir, enclos):\n",
      "\"NAs introduced by coercion\"Warning message in eval(expr, envir, enclos):\n",
      "\"NAs introduced by coercion\"Warning message in eval(expr, envir, enclos):\n",
      "\"NAs introduced by coercion\""
     ]
    },
    {
     "data": {
      "text/html": [
       "<table>\n",
       "<thead><tr><th scope=col>Date</th><th scope=col>Time</th><th scope=col>Global_active_power</th><th scope=col>Global_reactive_power</th><th scope=col>Voltage</th><th scope=col>Global_intensity</th><th scope=col>Sub_metering_1</th><th scope=col>Sub_metering_2</th><th scope=col>Sub_metering_3</th><th scope=col>active_energy</th></tr></thead>\n",
       "<tbody>\n",
       "\t<tr><td>16/12/2006</td><td>17:24:00  </td><td>4.216     </td><td>0.418     </td><td>234.84    </td><td>18.4      </td><td>0         </td><td>1         </td><td>17        </td><td>52.26667  </td></tr>\n",
       "\t<tr><td>16/12/2006</td><td>17:25:00  </td><td>5.360     </td><td>0.436     </td><td>233.63    </td><td>23        </td><td>0         </td><td>1         </td><td>16        </td><td>72.33333  </td></tr>\n",
       "\t<tr><td>16/12/2006</td><td>17:26:00  </td><td>5.374     </td><td>0.498     </td><td>233.29    </td><td>23        </td><td>0         </td><td>2         </td><td>17        </td><td>70.56667  </td></tr>\n",
       "\t<tr><td>16/12/2006</td><td>17:27:00  </td><td>5.388     </td><td>0.502     </td><td>233.74    </td><td>23        </td><td>0         </td><td>1         </td><td>17        </td><td>71.80000  </td></tr>\n",
       "\t<tr><td>16/12/2006</td><td>17:28:00  </td><td>3.666     </td><td>0.528     </td><td>235.68    </td><td>15.8      </td><td>0         </td><td>1         </td><td>17        </td><td>43.10000  </td></tr>\n",
       "\t<tr><td>16/12/2006</td><td>17:29:00  </td><td>3.520     </td><td>0.522     </td><td>235.02    </td><td>15        </td><td>0         </td><td>2         </td><td>17        </td><td>39.66667  </td></tr>\n",
       "</tbody>\n",
       "</table>\n"
      ],
      "text/latex": [
       "\\begin{tabular}{r|llllllllll}\n",
       " Date & Time & Global\\_active\\_power & Global\\_reactive\\_power & Voltage & Global\\_intensity & Sub\\_metering\\_1 & Sub\\_metering\\_2 & Sub\\_metering\\_3 & active\\_energy\\\\\n",
       "\\hline\n",
       "\t 16/12/2006 & 17:24:00   & 4.216      & 0.418      & 234.84     & 18.4       & 0          & 1          & 17         & 52.26667  \\\\\n",
       "\t 16/12/2006 & 17:25:00   & 5.360      & 0.436      & 233.63     & 23         & 0          & 1          & 16         & 72.33333  \\\\\n",
       "\t 16/12/2006 & 17:26:00   & 5.374      & 0.498      & 233.29     & 23         & 0          & 2          & 17         & 70.56667  \\\\\n",
       "\t 16/12/2006 & 17:27:00   & 5.388      & 0.502      & 233.74     & 23         & 0          & 1          & 17         & 71.80000  \\\\\n",
       "\t 16/12/2006 & 17:28:00   & 3.666      & 0.528      & 235.68     & 15.8       & 0          & 1          & 17         & 43.10000  \\\\\n",
       "\t 16/12/2006 & 17:29:00   & 3.520      & 0.522      & 235.02     & 15         & 0          & 2          & 17         & 39.66667  \\\\\n",
       "\\end{tabular}\n"
      ],
      "text/markdown": [
       "\n",
       "| Date | Time | Global_active_power | Global_reactive_power | Voltage | Global_intensity | Sub_metering_1 | Sub_metering_2 | Sub_metering_3 | active_energy |\n",
       "|---|---|---|---|---|---|---|---|---|---|\n",
       "| 16/12/2006 | 17:24:00   | 4.216      | 0.418      | 234.84     | 18.4       | 0          | 1          | 17         | 52.26667   |\n",
       "| 16/12/2006 | 17:25:00   | 5.360      | 0.436      | 233.63     | 23         | 0          | 1          | 16         | 72.33333   |\n",
       "| 16/12/2006 | 17:26:00   | 5.374      | 0.498      | 233.29     | 23         | 0          | 2          | 17         | 70.56667   |\n",
       "| 16/12/2006 | 17:27:00   | 5.388      | 0.502      | 233.74     | 23         | 0          | 1          | 17         | 71.80000   |\n",
       "| 16/12/2006 | 17:28:00   | 3.666      | 0.528      | 235.68     | 15.8       | 0          | 1          | 17         | 43.10000   |\n",
       "| 16/12/2006 | 17:29:00   | 3.520      | 0.522      | 235.02     | 15         | 0          | 2          | 17         | 39.66667   |\n",
       "\n"
      ],
      "text/plain": [
       "  Date       Time     Global_active_power Global_reactive_power Voltage\n",
       "1 16/12/2006 17:24:00 4.216               0.418                 234.84 \n",
       "2 16/12/2006 17:25:00 5.360               0.436                 233.63 \n",
       "3 16/12/2006 17:26:00 5.374               0.498                 233.29 \n",
       "4 16/12/2006 17:27:00 5.388               0.502                 233.74 \n",
       "5 16/12/2006 17:28:00 3.666               0.528                 235.68 \n",
       "6 16/12/2006 17:29:00 3.520               0.522                 235.02 \n",
       "  Global_intensity Sub_metering_1 Sub_metering_2 Sub_metering_3 active_energy\n",
       "1 18.4             0              1              17             52.26667     \n",
       "2 23               0              1              16             72.33333     \n",
       "3 23               0              2              17             70.56667     \n",
       "4 23               0              1              17             71.80000     \n",
       "5 15.8             0              1              17             43.10000     \n",
       "6 15               0              2              17             39.66667     "
      ]
     },
     "metadata": {},
     "output_type": "display_data"
    }
   ],
   "source": [
    "#format data columns\n",
    "\n",
    "data$Global_active_power <- as.numeric(data$Global_active_power)\n",
    "data$Sub_metering_1 <- as.numeric(data$Sub_metering_1)\n",
    "data$Sub_metering_2 <- as.numeric(data$Sub_metering_2)\n",
    "data$Sub_metering_3 <- as.numeric(data$Sub_metering_3)\n",
    "\n",
    "#calculate active energy\n",
    "\n",
    "data1 <- data %>% mutate(active_energy = Global_active_power*1000/60 - Sub_metering_1 - Sub_metering_2 - Sub_metering_3)\n",
    "\n",
    "head(data1)"
   ]
  },
  {
   "cell_type": "markdown",
   "id": "15e4c2a5",
   "metadata": {},
   "source": [
    "**Daily average active energy - total sum of active energy in a day**"
   ]
  },
  {
   "cell_type": "code",
   "execution_count": 6,
   "id": "c37c7ab0",
   "metadata": {},
   "outputs": [
    {
     "data": {
      "text/html": [
       "<table>\n",
       "<thead><tr><th scope=col>mean</th></tr></thead>\n",
       "<tbody>\n",
       "\t<tr><td>14180.56</td></tr>\n",
       "</tbody>\n",
       "</table>\n"
      ],
      "text/latex": [
       "\\begin{tabular}{r|l}\n",
       " mean\\\\\n",
       "\\hline\n",
       "\t 14180.56\\\\\n",
       "\\end{tabular}\n"
      ],
      "text/markdown": [
       "\n",
       "| mean |\n",
       "|---|\n",
       "| 14180.56 |\n",
       "\n"
      ],
      "text/plain": [
       "  mean    \n",
       "1 14180.56"
      ]
     },
     "metadata": {},
     "output_type": "display_data"
    }
   ],
   "source": [
    "data2_1 <- data1  %>% na.omit %>% group_by(Date) %>% summarise(daily_active_energy = sum(active_energy))\n",
    "average_daily_active_energy_1 <- data2_1 %>% summarise(mean=mean(daily_active_energy))\n",
    "average_daily_active_energy_1"
   ]
  },
  {
   "cell_type": "markdown",
   "id": "87f95a66",
   "metadata": {},
   "source": [
    "**Daily average active energy is 14189**"
   ]
  },
  {
   "cell_type": "markdown",
   "id": "fd06c551",
   "metadata": {},
   "source": [
    "**Forecast the daily active energy and plot the model**"
   ]
  },
  {
   "cell_type": "code",
   "execution_count": 7,
   "id": "f164c511",
   "metadata": {},
   "outputs": [
    {
     "name": "stderr",
     "output_type": "stream",
     "text": [
      "Loading required package: zoo\n",
      "\n",
      "Attaching package: 'zoo'\n",
      "\n",
      "The following objects are masked from 'package:base':\n",
      "\n",
      "    as.Date, as.Date.numeric\n",
      "\n",
      "Registered S3 method overwritten by 'xts':\n",
      "  method     from\n",
      "  as.zoo.xts zoo \n",
      "\n",
      "Attaching package: 'xts'\n",
      "\n",
      "The following objects are masked from 'package:dplyr':\n",
      "\n",
      "    first, last\n",
      "\n",
      "Warning message:\n",
      "\"package 'forecast' was built under R version 3.6.3\"Registered S3 method overwritten by 'quantmod':\n",
      "  method            from\n",
      "  as.zoo.data.frame zoo \n",
      "\n",
      "Attaching package: 'lubridate'\n",
      "\n",
      "The following object is masked from 'package:base':\n",
      "\n",
      "    date\n",
      "\n"
     ]
    },
    {
     "data": {
      "image/png": "[encoded data removed]",
      "text/plain": [
       "plot without title"
      ]
     },
     "metadata": {},
     "output_type": "display_data"
    }
   ],
   "source": [
    "library(xts)\n",
    "library(forecast)\n",
    "library(lubridate) \n",
    "\n",
    "data1_1 <- data1[rowSums(is.na(data1)) == 0,]\n",
    "data3_1 <- data1_1 %>% group_by(Date) %>% summarise(daily_active_energy = sum(active_energy))\n",
    "data3_1$Date <- parse_date_time(data3_1$Date, c('%d%m%y', '%d%m%Y'))\n",
    "xts_Data3_1 <- xts(data3_1[, -1], order.by=as.Date(data3_1$Date)) #converting to xts \n",
    "forecast3b1_1 <- ses(xts_Data3_1, alpha = 0.35, h=100) #fit ses() model\n",
    "autoplot(forecast3b1_1)"
   ]
  },
  {
   "cell_type": "markdown",
   "id": "a671d348",
   "metadata": {},
   "source": [
    "**Calculate tracking signals for three values of alpha value of (0.05, 0.35, 0.75) and h of 100**"
   ]
  },
  {
   "cell_type": "code",
   "execution_count": 8,
   "id": "725286af",
   "metadata": {},
   "outputs": [
    {
     "data": {
      "text/html": [
       "<ol class=list-inline>\n",
       "\t<li>-32.0461053456748</li>\n",
       "\t<li>-4.25433115644621</li>\n",
       "\t<li>-0.678920755932659</li>\n",
       "</ol>\n"
      ],
      "text/latex": [
       "\\begin{enumerate*}\n",
       "\\item -32.0461053456748\n",
       "\\item -4.25433115644621\n",
       "\\item -0.678920755932659\n",
       "\\end{enumerate*}\n"
      ],
      "text/markdown": [
       "1. -32.0461053456748\n",
       "2. -4.25433115644621\n",
       "3. -0.678920755932659\n",
       "\n",
       "\n"
      ],
      "text/plain": [
       "[1] -32.0461053  -4.2543312  -0.6789208"
      ]
     },
     "metadata": {},
     "output_type": "display_data"
    }
   ],
   "source": [
    "a <- c(0.05, 0.35, 0.75)\n",
    "TS1 <- c()\n",
    "for(i in a) {\n",
    "  a1 <-  ses(xts_Data3_1, alpha = i, h=100)\n",
    "  actual1 <- as.data.frame(xts_Data3_1$daily_active_energy)\n",
    "  fitted1 <- as.data.frame(a1[['fitted']])\n",
    "  RSFE1 <- sum(actual1 - fitted1)\n",
    "  MAD1 <- sum(abs(actual1 - fitted1))/length(actual1$daily_active_energy)\n",
    "  TS1 <- append(TS1, (RSFE1/MAD1))\n",
    "}\n",
    "TS1"
   ]
  },
  {
   "cell_type": "markdown",
   "id": "fea7085a",
   "metadata": {},
   "source": [
    "**Measuring forecast accuracy by calculating Mean Absolute Deviation (MAD) and Mean Forecast Error (MFE) of the model**"
   ]
  },
  {
   "cell_type": "code",
   "execution_count": 9,
   "id": "eb2c98c9",
   "metadata": {},
   "outputs": [
    {
     "data": {
      "text/html": [
       "<ol class=list-inline>\n",
       "\t<li>3781.12378825544</li>\n",
       "\t<li>3265.8472286364</li>\n",
       "\t<li>3401.62447792152</li>\n",
       "</ol>\n"
      ],
      "text/latex": [
       "\\begin{enumerate*}\n",
       "\\item 3781.12378825544\n",
       "\\item 3265.8472286364\n",
       "\\item 3401.62447792152\n",
       "\\end{enumerate*}\n"
      ],
      "text/markdown": [
       "1. 3781.12378825544\n",
       "2. 3265.8472286364\n",
       "3. 3401.62447792152\n",
       "\n",
       "\n"
      ],
      "text/plain": [
       "[1] 3781.124 3265.847 3401.624"
      ]
     },
     "metadata": {},
     "output_type": "display_data"
    },
    {
     "data": {
      "text/html": [
       "<ol class=list-inline>\n",
       "\t<li>-166.442707752021</li>\n",
       "\t<li>-19.0851588145349</li>\n",
       "\t<li>-3.17229871146911</li>\n",
       "</ol>\n"
      ],
      "text/latex": [
       "\\begin{enumerate*}\n",
       "\\item -166.442707752021\n",
       "\\item -19.0851588145349\n",
       "\\item -3.17229871146911\n",
       "\\end{enumerate*}\n"
      ],
      "text/markdown": [
       "1. -166.442707752021\n",
       "2. -19.0851588145349\n",
       "3. -3.17229871146911\n",
       "\n",
       "\n"
      ],
      "text/plain": [
       "[1] -166.442708  -19.085159   -3.172299"
      ]
     },
     "metadata": {},
     "output_type": "display_data"
    }
   ],
   "source": [
    "a <- c(0.05, 0.35, 0.75)\n",
    "MAD <- c()\n",
    "MFE <- c()\n",
    "for(i in a) {\n",
    "  a1 <-  ses(xts_Data3_1, alpha = i, h=100)\n",
    "  actual1 <- as.data.frame(xts_Data3_1$daily_active_energy)\n",
    "  fitted1 <- as.data.frame(a1[['fitted']])\n",
    "  MFE1 <- sum(actual1 - fitted1)/length(actual1$daily_active_energy)\n",
    "  MAD1 <- sum(abs(actual1 - fitted1))/length(actual1$daily_active_energy)\n",
    "  MAD <- append(MAD, MAD1)\n",
    "  MFE <- append(MFE, MFE1)\n",
    "}\n",
    "MAD\n",
    "MFE"
   ]
  },
  {
   "cell_type": "markdown",
   "id": "13ddf4bf",
   "metadata": {},
   "source": [
    "**Evaluation**"
   ]
  },
  {
   "cell_type": "markdown",
   "id": "1a1e7789",
   "metadata": {},
   "source": [
    "\n",
    "The tracking signal for the values of alpha of 0.35 and 0.75 are both within -4 and 4; therefore, the values suggest\n",
    "these models do not require additional investigation and are good models. \n",
    "\n",
    "The MAD values for alphas for 0.35 has the lowest value.\n",
    "Thereofore, the model using an alpha of 0.35 has less variability. \n",
    "\n",
    "The MFE values for all alphas are negative. A negative MFE suggests the model has a tendency to over forcast; however, the model with an MFE closest to zero is considered better, thus MFE for alpha value of 0.75 is closest to zero followed by alpha value of 0.35. \n",
    "\n",
    "Looking at the tracking signal, MAD, and MFE, the model using an alpha of 0.35 is a better model. Others might need more investigation. "
   ]
  }
 ],
 "metadata": {
  "kernelspec": {
   "display_name": "R",
   "language": "R",
   "name": "ir"
  },
  "language_info": {
   "codemirror_mode": "r",
   "file_extension": ".r",
   "mimetype": "text/x-r-source",
   "name": "R",
   "pygments_lexer": "r",
   "version": "3.6.1"
  }
 },
 "nbformat": 4,
 "nbformat_minor": 5
}
